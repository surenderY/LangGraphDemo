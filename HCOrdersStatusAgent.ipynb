{
 "cells": [
  {
   "cell_type": "code",
   "execution_count": 1,
   "id": "913bdaab",
   "metadata": {},
   "outputs": [],
   "source": [
    "from langchain.chat_models import init_chat_model\n",
    "from langchain_core.tools import tool\n",
    "from langgraph.graph import StateGraph, END\n",
    "from langgraph.checkpoint.memory import MemorySaver\n",
    "from typing import TypedDict, Annotated\n",
    "from langchain_core.messages import AnyMessage, SystemMessage, ToolMessage\n",
    "from dotenv import load_dotenv\n",
    "from IPython.display import Image\n",
    "import operator\n",
    "import pandas as pd\n",
    "import os"
   ]
  },
  {
   "cell_type": "markdown",
   "id": "f2872aee",
   "metadata": {},
   "source": [
    "### Load data from csv files for now"
   ]
  },
  {
   "cell_type": "code",
   "execution_count": 2,
   "id": "e389a00f",
   "metadata": {},
   "outputs": [
    {
     "name": "stdout",
     "output_type": "stream",
     "text": [
      "   Order ID Product Ordered  Quantity Ordered Delivery Date\n",
      "0  ORD-8276   SpectraBook S                 3    2024-10-16\n",
      "1  ORD-6948    OmegaPro G17                 3    2024-10-25\n",
      "2  ORD-7311   NanoEdge Flex                 2    2024-10-19\n",
      "3  ORD-4633    OmegaPro G17                 2    2024-10-15\n",
      "4  ORD-2050      GammaAir X                 2    2024-10-26\n"
     ]
    }
   ],
   "source": [
    "#Load the laptop product orders CSV into a Pandas dataframe.\n",
    "product_orders_df = pd.read_csv(\"data/Laptop Orders.csv\")\n",
    "print(product_orders_df)"
   ]
  },
  {
   "cell_type": "markdown",
   "id": "19591ec2",
   "metadata": {},
   "source": [
    "### Define required tools, one for order status and another for order quantity update"
   ]
  },
  {
   "cell_type": "code",
   "execution_count": 3,
   "id": "1e952e0c",
   "metadata": {},
   "outputs": [],
   "source": [
    "@tool\n",
    "def get_order_details(order_id:str) -> str :\n",
    "    \"\"\"\n",
    "    This function returns details about a laptop order, given an order ID\n",
    "    It performs an exact match between the input order id and available order ids\n",
    "    If a match is found, it returns products (laptops) ordered, quantity ordered and delivery date.\n",
    "    If there is NO match found, it returns -1\n",
    "    \"\"\"\n",
    "    #Filter Dataframe for order ID\n",
    "    match_order_df = product_orders_df[\n",
    "                        product_orders_df[\"Order ID\"] == order_id ]\n",
    "\n",
    "    #Check if a record was found, if not return -1\n",
    "    if len(match_order_df) == 0 :\n",
    "        return -1\n",
    "    else:\n",
    "        return match_order_df.iloc[0].to_dict()\n",
    "\n",
    "\n",
    "@tool\n",
    "def update_quantity(order_id:str, new_quantity:int) -> bool :\n",
    "    \"\"\"\n",
    "    This function updates the quantity of products ( laptops ) ordered for a given order Id.\n",
    "    It there are no matching orders, it returns False.\n",
    "    \"\"\"\n",
    "    #Find if matching record exists\n",
    "    match_order_df = product_orders_df[\n",
    "                        product_orders_df[\"Order ID\"] == order_id ]\n",
    "\n",
    "    #Check if a record was found, if not return -1\n",
    "    if len(match_order_df) == 0 :\n",
    "        return False\n",
    "    else:\n",
    "        product_orders_df.loc[\n",
    "            product_orders_df[\"Order ID\"] == order_id, \n",
    "                \"Quantity Ordered\"] = new_quantity\n",
    "        return True"
   ]
  },
  {
   "cell_type": "markdown",
   "id": "4ee85f86",
   "metadata": {},
   "source": [
    "### Implement agent for Order Status"
   ]
  },
  {
   "cell_type": "code",
   "execution_count": 6,
   "id": "0b8f8a28",
   "metadata": {},
   "outputs": [],
   "source": [
    "#An Agent State class that keep state of the agent while it answers a query\n",
    "class OrdersAgentState(TypedDict):\n",
    "    messages: Annotated[list[AnyMessage], operator.add]\n",
    "\n",
    "\n",
    "#An agent class that manages all agentic interactions\n",
    "class OrdersAgent:\n",
    "\n",
    "    #Setup the agent graph, tools and memory\n",
    "    def __init__(self, model, tools, system_prompt, debug):\n",
    "        \n",
    "        self.system_prompt=system_prompt\n",
    "        self.debug=debug\n",
    "\n",
    "        agent_graph=StateGraph(OrdersAgentState)\n",
    "        agent_graph.add_node(\"orders_llm\",self.call_llm)\n",
    "        agent_graph.add_node(\"orders_tools\",self.call_tools)\n",
    "        agent_graph.add_conditional_edges(\n",
    "            \"orders_llm\",\n",
    "            self.is_tool_call,\n",
    "            {True: \"orders_tools\", False: END }\n",
    "        )\n",
    "        agent_graph.add_edge(\"orders_tools\",\"orders_llm\")\n",
    "        agent_graph.set_entry_point(\"orders_llm\")\n",
    "\n",
    "        #Add chat memory\n",
    "        self.memory=MemorySaver()\n",
    "        self.agent_graph = agent_graph.compile(checkpointer=self.memory)\n",
    "\n",
    "        self.tools = { tool.name : tool for tool in tools }\n",
    "        if self.debug:\n",
    "            print(\"\\nTools loaded :\", self.tools)\n",
    "            \n",
    "        self.model=model.bind_tools(tools)\n",
    "\n",
    "\n",
    "    #Call the LLM with the messages to get next action/result\n",
    "    def call_llm(self, state:OrdersAgentState):\n",
    "        \n",
    "        messages=state[\"messages\"]\n",
    "\n",
    "        #If system prompt exists, add to messages in the front\n",
    "        if self.system_prompt:\n",
    "            messages = [SystemMessage(content=self.system_prompt)] + messages\n",
    "            \n",
    "        #invoke the model with the message history\n",
    "        result = self.model.invoke(messages)\n",
    "        if self.debug:\n",
    "            print(f\"\\nLLM Returned : {result}\")\n",
    "        #Return the LLM output\n",
    "        return { \"messages\":[result] }\n",
    "    \n",
    "    \n",
    "    #Check if the next action is a tool call.\n",
    "    def is_tool_call(self, state:OrdersAgentState):\n",
    "        last_message = state[\"messages\"][-1]\n",
    "        #print(\"Last result from LLM : \", last_message)\n",
    "        #If tool action is requested\n",
    "        if len(last_message.tool_calls) > 0 :\n",
    "            return True\n",
    "        else:\n",
    "            return False\n",
    "\n",
    "    #Execute the tool requested with the given parameters\n",
    "    def call_tools(self, state:OrdersAgentState):\n",
    "        #Get last message\n",
    "        tool_calls = state[\"messages\"][-1].tool_calls\n",
    "        results=[]\n",
    "\n",
    "        #Multiple tool calls may be requested. Execute one by one\n",
    "        for tool in tool_calls:\n",
    "            #Handle tool missing error\n",
    "            if not tool[\"name\"] in self.tools:\n",
    "                print(f\"Unknown tool name {tool}\")\n",
    "                result = \"Invalid tool found. Please retry\"\n",
    "            else:\n",
    "                result=self.tools[tool[\"name\"]].invoke(tool[\"args\"])\n",
    "\n",
    "            #append results to the list of tool results\n",
    "            results.append(ToolMessage(tool_call_id=tool['id'], \n",
    "                                       name=tool['name'], \n",
    "                                       content=str(result)))\n",
    "\n",
    "            if self.debug:\n",
    "                print(f\"\\nTools returned {results}\")\n",
    "            return { \"messages\" : results }\n",
    "\n",
    "\n",
    "#Note that this is a string, since the model init only accepts a string.\n",
    "orders_status_agent_prompt = \"\"\"\n",
    "    You are professional chatbot that manages orders for laptops sold by our company.\n",
    "    The tools allow for retrieving order details as well as update order quantity.\n",
    "    Do NOT reveal information about other orders than the one requested.\n",
    "    You will handle small talk and greetings by producing professional responses.\n",
    "    \"\"\""
   ]
  },
  {
   "cell_type": "markdown",
   "id": "1559f64f",
   "metadata": {},
   "source": [
    "### Generate and draw LangGraph for demonstration purpose"
   ]
  },
  {
   "cell_type": "code",
   "execution_count": null,
   "id": "59b708a0",
   "metadata": {},
   "outputs": [
    {
     "data": {
      "image/png": "[encoded data removed]",
      "text/plain": [
       "<IPython.core.display.Image object>"
      ]
     },
     "execution_count": 8,
     "metadata": {},
     "output_type": "execute_result"
    }
   ],
   "source": [
    "# create model\n",
    "load_dotenv()\n",
    "llm_model = os.getenv(\"LLM_MODEL\")\n",
    "model = init_chat_model(llm_model)\n",
    "\n",
    "# Create the custom orders agent\n",
    "orders_agent = OrdersAgent(model, \n",
    "                           [get_order_details, update_quantity], \n",
    "                           orders_status_agent_prompt,\n",
    "                           debug=False)\n",
    "\n",
    "# Visualize the Agent\n",
    "Image(orders_agent.agent_graph.get_graph().draw_mermaid_png())"
   ]
  },
  {
   "cell_type": "markdown",
   "id": "c342c0f8",
   "metadata": {},
   "source": [
    "### Ask list of questions to HCOrderStatus agent"
   ]
  },
  {
   "cell_type": "code",
   "execution_count": null,
   "id": "8da79faf",
   "metadata": {},
   "outputs": [],
   "source": [
    "from langchain_core.messages import HumanMessage\n",
    "import uuid\n",
    "#Send a sequence of messages to chatbot and get its response\n",
    "#This simulates the conversation between the user and the Agentic chatbot\n",
    "user_inputs = [\n",
    "    \"How are you doing?\",\n",
    "    \"Please show me the details of the order ORD-8276\",\n",
    "    \"Can you add one more of that laptop to the order? \",\n",
    "    \"Can you show me the details again ? \",\n",
    "    \"What about order ORD-9999 ?\",\n",
    "    \"Bye\"\n",
    "]\n",
    "\n",
    "#Create a new thread\n",
    "config = {\"configurable\": {\"thread_id\": str(uuid.uuid4())}}\n",
    "print(\"\\nLLM Model:\", llm_model)\n",
    "\n",
    "for input in user_inputs:\n",
    "    print(f\"----------------------------------------\\nUSER : {input}\")\n",
    "    #Format the user message\n",
    "    user_message = {\"messages\":[HumanMessage(input)]}\n",
    "    #Get response from the agent\n",
    "    ai_response = orders_agent.agent_graph.invoke(user_message,config=config)\n",
    "    #Print the response\n",
    "    print(f\"\\nAGENT : {ai_response['messages'][-1].content}\")"
   ]
  }
 ],
 "metadata": {
  "kernelspec": {
   "display_name": ".venv",
   "language": "python",
   "name": "python3"
  },
  "language_info": {
   "codemirror_mode": {
    "name": "ipython",
    "version": 3
   },
   "file_extension": ".py",
   "mimetype": "text/x-python",
   "name": "python",
   "nbconvert_exporter": "python",
   "pygments_lexer": "ipython3",
   "version": "3.11.9"
  }
 },
 "nbformat": 4,
 "nbformat_minor": 5
}
