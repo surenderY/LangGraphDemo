{
 "cells": [
  {
   "cell_type": "code",
   "execution_count": 1,
   "id": "ce5cbbe8",
   "metadata": {},
   "outputs": [],
   "source": [
    "from langchain_tavily import TavilySearch\n",
    "from langchain.chat_models import init_chat_model\n",
    "from typing import Annotated\n",
    "from typing_extensions import TypedDict\n",
    "from langgraph.graph import StateGraph, START, END\n",
    "from langgraph.graph.message import add_messages\n",
    "from langchain_core.messages import ToolMessage\n",
    "from dotenv import load_dotenv\n",
    "import openai\n",
    "import json\n",
    "import os"
   ]
  },
  {
   "cell_type": "markdown",
   "id": "35f0c2be",
   "metadata": {},
   "source": [
    "## Loading LLM model"
   ]
  },
  {
   "cell_type": "code",
   "execution_count": 2,
   "id": "3451ccb4",
   "metadata": {},
   "outputs": [
    {
     "name": "stdout",
     "output_type": "stream",
     "text": [
      "LLM Model: openai:gpt-5-mini\n"
     ]
    }
   ],
   "source": [
    "load_dotenv()\n",
    "llm_model = os.getenv(\"LLM_MODEL\")\n",
    "print(\"LLM Model:\", llm_model)\n",
    "llm = init_chat_model(llm_model)\n",
    "# creating a tool instance for web search using Tavily\n",
    "tool = TavilySearch(max_results=2)\n",
    "tools = [tool]\n",
    "llm_with_tools = llm.bind_tools(tools)"
   ]
  },
  {
   "cell_type": "markdown",
   "id": "8f6f4c6a",
   "metadata": {},
   "source": [
    "## Implementing required classes for basic chat/search functionality and node class for the same"
   ]
  },
  {
   "cell_type": "code",
   "execution_count": 3,
   "id": "9639d383",
   "metadata": {},
   "outputs": [],
   "source": [
    "class State(TypedDict):\n",
    "    messages: Annotated[list, add_messages]\n",
    "\n",
    "def chatbot(state: State):\n",
    "    try:\n",
    "        return {\"messages\": [llm_with_tools.invoke(state[\"messages\"])]}\n",
    "    except openai.RateLimitError as e:\n",
    "        print(\"OpenAI API quota exceeded. Please check your plan and billing details.\")\n",
    "        print(f\"Error details: {e}\")\n",
    "        return {\"messages\": []}\n",
    "    \n",
    "class BasicChatNode:\n",
    "    \"\"\"A node that runs the tools requested in the last AIMessage.\"\"\"\n",
    "\n",
    "    def __init__(self, tools: list) -> None:\n",
    "        self.tools_by_name = {tool.name: tool for tool in tools}\n",
    "\n",
    "    def __call__(self, inputs: dict):\n",
    "        if messages := inputs.get(\"messages\", []):\n",
    "            message = messages[-1]\n",
    "        else:\n",
    "            raise ValueError(\"No message found in input\")\n",
    "        outputs = []\n",
    "        for tool_call in message.tool_calls:\n",
    "            tool_result = self.tools_by_name[tool_call[\"name\"]].invoke(\n",
    "                tool_call[\"args\"]\n",
    "            )\n",
    "            outputs.append(\n",
    "                ToolMessage(\n",
    "                    content=json.dumps(tool_result),\n",
    "                    name=tool_call[\"name\"],\n",
    "                    tool_call_id=tool_call[\"id\"],\n",
    "                )\n",
    "            )\n",
    "        return {\"messages\": outputs}\n",
    "    "
   ]
  },
  {
   "cell_type": "markdown",
   "id": "7775b48b",
   "metadata": {},
   "source": [
    "## Implementing routing tool"
   ]
  },
  {
   "cell_type": "code",
   "execution_count": 4,
   "id": "cb893327",
   "metadata": {},
   "outputs": [],
   "source": [
    "def route_tools(state: State,):\n",
    "    \"\"\"\n",
    "    Use in the conditional_edge to route to the ToolNode if the last message\n",
    "    has tool calls. Otherwise, route to the end.\n",
    "    \"\"\"\n",
    "    if isinstance(state, list):\n",
    "        ai_message = state[-1]\n",
    "    elif messages := state.get(\"messages\", []):\n",
    "        ai_message = messages[-1]\n",
    "    else:\n",
    "        raise ValueError(f\"No messages found in input state to tool_edge: {state}\")\n",
    "    if hasattr(ai_message, \"tool_calls\") and len(ai_message.tool_calls) > 0:\n",
    "        return \"tools\"\n",
    "    return END"
   ]
  },
  {
   "cell_type": "markdown",
   "id": "8a667a44",
   "metadata": {},
   "source": [
    "## create a graphbuilder"
   ]
  },
  {
   "cell_type": "code",
   "execution_count": 5,
   "id": "50c1e04c",
   "metadata": {},
   "outputs": [
    {
     "data": {
      "image/png": "[encoded data removed]",
      "text/plain": [
       "<IPython.core.display.Image object>"
      ]
     },
     "metadata": {},
     "output_type": "display_data"
    }
   ],
   "source": [
    "graph_builder = StateGraph(State)\n",
    "\n",
    "graph_builder.add_node(\"chatbot\", chatbot)\n",
    "tool_node = BasicChatNode(tools=[tool])\n",
    "graph_builder.add_node(\"tools\", tool_node)\n",
    "# The `tools_condition` function returns \"tools\" if the chatbot asks to use a tool, and \"END\" if\n",
    "# it is fine directly responding. This conditional routing defines the main agent loop.\n",
    "graph_builder.add_conditional_edges(\n",
    "    \"chatbot\",\n",
    "    route_tools,\n",
    "    # The following dictionary lets you tell the graph to interpret the condition's outputs as a specific node\n",
    "    # It defaults to the identity function, but if you\n",
    "    # want to use a node named something else apart from \"tools\",\n",
    "    # You can update the value of the dictionary to something else\n",
    "    # e.g., \"tools\": \"my_tools\"\n",
    "    {\"tools\": \"tools\", END: END},\n",
    ")\n",
    "# Any time a tool is called, we return to the chatbot to decide the next step\n",
    "graph_builder.add_edge(\"tools\", \"chatbot\")\n",
    "graph_builder.add_edge(START, \"chatbot\")\n",
    "graph = graph_builder.compile()\n",
    "\n",
    "from IPython.display import Image, display\n",
    "try:\n",
    "    display(Image(graph.get_graph().draw_mermaid_png()))\n",
    "except Exception:\n",
    "    # This requires some extra dependencies and is optional\n",
    "    pass"
   ]
  },
  {
   "cell_type": "code",
   "execution_count": 7,
   "id": "c0c68053",
   "metadata": {},
   "outputs": [
    {
     "name": "stdout",
     "output_type": "stream",
     "text": [
      "\n",
      "Assistant :  Short answer\n",
      "AI is moving from narrow ML features (anomaly scoring, signatureless detection) to large‑model and generative capabilities that change both offense and defense. New capabilities are showing up across SOC tooling, devsecops, red‑team automation and threat intelligence — and they bring new attack surfaces and governance needs.\n",
      "\n",
      "What’s new / the big trends\n",
      "- LLMs in the SOC: Security platforms now embed large language models to do alert triage, auto‑write playbooks, summarize incidents, generate investigation queries, and draft response actions. This speeds analysts but creates new trust and data‑leakage risks.\n",
      "- Generative AI as both tool and weapon: Defenders use generative models to synthesize phishing templates, create test malware, and generate remediation code; attackers use them to craft convincing phishing, automate social engineering, and write polymorphic malware.\n",
      "- Transformer/self‑supervised models for telemetry: New detection models use transformers and self‑supervised learning on logs, network flows and EDR telemetry for better context and fewer labeled examples.\n",
      "- AI‑driven vulnerability/fix prioritization: ML models that predict exploitability and recommend prioritized fixes are becoming common in vulnerability management and patch orchestration.\n",
      "- AppSec + LLMs: Security scanners, SAST/DAST tools and code‑review assistants now use LLMs to surface vulnerabilities and suggest fixes. This accelerates developer remediation but also risks false positives/negatives if not validated.\n",
      "- Automated red‑teaming and attack emulation: Tools increasingly automate attack playbooks, use ML to discover attack paths, and generate adaptable payloads for testing defenses.\n",
      "- Synthetic data & privacy techniques: Org‑level adoption of synthetic data, differential privacy and federated learning to train security models without exposing production data.\n",
      "- Model security & governance: Bigger focus on adversarial robustness, model‑explainability, provenance, watermarking and policies for model use — driven by both risk and emerging regulation (e.g., EU AI Act, regulator guidance).\n",
      "- Threat‑intel enrichment with LLMs: LLMs are used to normalize, correlate and enrich indicators and unstructured reports, improving analyst productivity if models are constrained and validated.\n",
      "\n",
      "Key new risks\n",
      "- Prompt injection and data exfiltration from LLMs if sensitive telemetry is sent to third‑party models.\n",
      "- Model theft, model poisoning and adversarial attacks against detection models.\n",
      "- Scaled, high‑quality phishing and social engineering from affordable LLMs.\n",
      "- Overtrust in AI triage: automation can suppress signals or misprioritize without human review.\n",
      "- Supply‑chain risk from third‑party models and pre‑trained components.\n",
      "\n",
      "Practical recommendations (for security teams)\n",
      "- Start small, protect data: Run LLMs in private/cloud‑sovereign deployments where possible; avoid sending raw sensitive telemetry to public models.\n",
      "- Human‑in‑the‑loop for critical decisions: Require analyst sign‑off for containment, deletion, or privileged changes suggested by models.\n",
      "- Threat‑test your models: Red‑team the models (prompt injection, poisoning, model stealing scenarios) and validate on adversarial examples.\n",
      "- Monitor & log everything: Model usage, inputs and outputs, and access to model endpoints — use these logs for audit and incident response.\n",
      "- Ask vendors the right questions: How is training data handled? Where are model queries executed? Do they provide explainability, provenance, and capability to restrict hallucinations?\n",
      "- Governance & RBAC: Apply least privilege to model access and limit what data individual models can see.\n",
      "- Validate and metricize: Track false positive/negative rates, drift, and model performance over time; roll back if performance degrades.\n",
      "\n",
      "Where to watch next (6–12 months)\n",
      "- Wider adoption of private/fine‑tuned LLMs inside enterprises for secure triage and playbook generation.\n",
      "- More vendor features labeled “AI” in EDR/XDR, SIEM, SOAR and vulnerability management — expect rapid feature proliferation (and hype).\n",
      "- Regulatory guidance focused on model auditing, data governance, and consumer protection in cyber contexts.\n",
      "- Improved defenses for model attacks (watermarking, encrypted inference, certified robustness techniques).\n",
      "\n",
      "If you want, I can:\n",
      "- Give a one‑page risk checklist for adopting LLMs in your SOC.\n",
      "- Walk through how to safely pilot an LLM for alert triage in your environment.\n",
      "- Summarize vendor options and what vendor answers you should demand during procurement.\n",
      "\n",
      "Which would be most useful for you?\n"
     ]
    }
   ],
   "source": [
    "def stream_graph_updates(user_input: str):\n",
    "    try:\n",
    "        for event in graph.stream({\"messages\": [{\"role\": \"user\", \"content\": user_input}]}):\n",
    "            for value in event.values():\n",
    "                print(\"\\nAssistant : \", value[\"messages\"][-1].content)\n",
    "    except openai.RateLimitError as e:\n",
    "        print(\"OpenAI API quota exceeded. Please check your plan and billing details.\")\n",
    "        print(f\"Error details: {e}\")\n",
    "\n",
    "stream_graph_updates(\"what's new with AI tools in cyber security?\")\n",
    "\n",
    "# while True:\n",
    "#     user_input = input(\"\\nUser: \")\n",
    "#     if user_input.lower() in [\"exit\", \"quit\"]:\n",
    "#         print(\"Exiting the chat. Goodbye!\")\n",
    "#         break\n",
    "    # stream_graph_updates(user_input)"
   ]
  },
  {
   "cell_type": "code",
   "execution_count": null,
   "id": "98e2b819-9f72-435b-b81b-48aed3b32527",
   "metadata": {},
   "outputs": [],
   "source": []
  }
 ],
 "metadata": {
  "kernelspec": {
   "display_name": "Python [conda env:venv]",
   "language": "python",
   "name": "conda-env-venv-py"
  },
  "language_info": {
   "codemirror_mode": {
    "name": "ipython",
    "version": 3
   },
   "file_extension": ".py",
   "mimetype": "text/x-python",
   "name": "python",
   "nbconvert_exporter": "python",
   "pygments_lexer": "ipython3",
   "version": "3.13.7"
  }
 },
 "nbformat": 4,
 "nbformat_minor": 5
}
